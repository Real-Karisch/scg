{
 "cells": [
  {
   "cell_type": "code",
   "execution_count": 1,
   "metadata": {},
   "outputs": [],
   "source": [
    "from bs4 import BeautifulSoup\n",
    "import re\n",
    "import json\n",
    "\n",
    "from sourceHtmlToJson import generateBooksJson\n",
    "from vars import hardCodeQuestions"
   ]
  },
  {
   "cell_type": "code",
   "execution_count": 2,
   "metadata": {},
   "outputs": [],
   "source": [
    "with open('C:/Users/jackk/Projects/scg/outputs/books.json', 'r') as file:\n",
    "    books = json.loads(file.read())"
   ]
  },
  {
   "cell_type": "code",
   "execution_count": 7,
   "metadata": {},
   "outputs": [],
   "source": [
    "def questionNumChecker(booksJson):\n",
    "    for bookJson in booksJson:\n",
    "        print(f\"Book {bookJson['numStr']}\")\n",
    "        questionNums = [x['questionNum'] for x in bookJson['questions']]\n",
    "        #chapterNums = [int(re.search('Chapter (\\d+)', x['chapter']).group(1)) for x in bookJson['questions']]\n",
    "\n",
    "        for i in range(1,len(questionNums)+1):\n",
    "            if i not in questionNums: #or i not in chapterNums:\n",
    "                print(i)"
   ]
  },
  {
   "cell_type": "code",
   "execution_count": 8,
   "metadata": {},
   "outputs": [
    {
     "name": "stdout",
     "output_type": "stream",
     "text": [
      "Book 1\n",
      "Book 2\n",
      "Book 3.1\n",
      "63\n",
      "Book 3.2\n",
      "Book 4\n"
     ]
    }
   ],
   "source": [
    "questionNumChecker(books)"
   ]
  }
 ],
 "metadata": {
  "kernelspec": {
   "display_name": "base",
   "language": "python",
   "name": "python3"
  },
  "language_info": {
   "codemirror_mode": {
    "name": "ipython",
    "version": 3
   },
   "file_extension": ".py",
   "mimetype": "text/x-python",
   "name": "python",
   "nbconvert_exporter": "python",
   "pygments_lexer": "ipython3",
   "version": "3.11.7"
  }
 },
 "nbformat": 4,
 "nbformat_minor": 2
}
